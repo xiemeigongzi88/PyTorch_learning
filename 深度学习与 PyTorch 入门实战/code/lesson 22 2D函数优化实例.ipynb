{
 "cells": [
  {
   "cell_type": "markdown",
   "metadata": {},
   "source": [
    "# lesson 22 2D函数优化实例"
   ]
  },
  {
   "cell_type": "code",
   "execution_count": 2,
   "metadata": {},
   "outputs": [],
   "source": [
    "import  numpy as np\n",
    "from    mpl_toolkits.mplot3d import Axes3D\n",
    "from    matplotlib import pyplot as plt\n",
    "import  torch"
   ]
  },
  {
   "cell_type": "markdown",
   "metadata": {},
   "source": [
    "## plot "
   ]
  },
  {
   "cell_type": "code",
   "execution_count": 4,
   "metadata": {},
   "outputs": [],
   "source": [
    "def himmelblau(x):\n",
    "    return (x[0]**2+x[1]-11)**2 +(x[0]+x[1]**2-7)**2"
   ]
  },
  {
   "cell_type": "code",
   "execution_count": 5,
   "metadata": {},
   "outputs": [
    {
     "data": {
      "text/plain": [
       "(array([-6.00000000e+00, -5.90000000e+00, -5.80000000e+00, -5.70000000e+00,\n",
       "        -5.60000000e+00, -5.50000000e+00, -5.40000000e+00, -5.30000000e+00,\n",
       "        -5.20000000e+00, -5.10000000e+00, -5.00000000e+00, -4.90000000e+00,\n",
       "        -4.80000000e+00, -4.70000000e+00, -4.60000000e+00, -4.50000000e+00,\n",
       "        -4.40000000e+00, -4.30000000e+00, -4.20000000e+00, -4.10000000e+00,\n",
       "        -4.00000000e+00, -3.90000000e+00, -3.80000000e+00, -3.70000000e+00,\n",
       "        -3.60000000e+00, -3.50000000e+00, -3.40000000e+00, -3.30000000e+00,\n",
       "        -3.20000000e+00, -3.10000000e+00, -3.00000000e+00, -2.90000000e+00,\n",
       "        -2.80000000e+00, -2.70000000e+00, -2.60000000e+00, -2.50000000e+00,\n",
       "        -2.40000000e+00, -2.30000000e+00, -2.20000000e+00, -2.10000000e+00,\n",
       "        -2.00000000e+00, -1.90000000e+00, -1.80000000e+00, -1.70000000e+00,\n",
       "        -1.60000000e+00, -1.50000000e+00, -1.40000000e+00, -1.30000000e+00,\n",
       "        -1.20000000e+00, -1.10000000e+00, -1.00000000e+00, -9.00000000e-01,\n",
       "        -8.00000000e-01, -7.00000000e-01, -6.00000000e-01, -5.00000000e-01,\n",
       "        -4.00000000e-01, -3.00000000e-01, -2.00000000e-01, -1.00000000e-01,\n",
       "        -2.13162821e-14,  1.00000000e-01,  2.00000000e-01,  3.00000000e-01,\n",
       "         4.00000000e-01,  5.00000000e-01,  6.00000000e-01,  7.00000000e-01,\n",
       "         8.00000000e-01,  9.00000000e-01,  1.00000000e+00,  1.10000000e+00,\n",
       "         1.20000000e+00,  1.30000000e+00,  1.40000000e+00,  1.50000000e+00,\n",
       "         1.60000000e+00,  1.70000000e+00,  1.80000000e+00,  1.90000000e+00,\n",
       "         2.00000000e+00,  2.10000000e+00,  2.20000000e+00,  2.30000000e+00,\n",
       "         2.40000000e+00,  2.50000000e+00,  2.60000000e+00,  2.70000000e+00,\n",
       "         2.80000000e+00,  2.90000000e+00,  3.00000000e+00,  3.10000000e+00,\n",
       "         3.20000000e+00,  3.30000000e+00,  3.40000000e+00,  3.50000000e+00,\n",
       "         3.60000000e+00,  3.70000000e+00,  3.80000000e+00,  3.90000000e+00,\n",
       "         4.00000000e+00,  4.10000000e+00,  4.20000000e+00,  4.30000000e+00,\n",
       "         4.40000000e+00,  4.50000000e+00,  4.60000000e+00,  4.70000000e+00,\n",
       "         4.80000000e+00,  4.90000000e+00,  5.00000000e+00,  5.10000000e+00,\n",
       "         5.20000000e+00,  5.30000000e+00,  5.40000000e+00,  5.50000000e+00,\n",
       "         5.60000000e+00,  5.70000000e+00,  5.80000000e+00,  5.90000000e+00]),\n",
       " (120,))"
      ]
     },
     "execution_count": 5,
     "metadata": {},
     "output_type": "execute_result"
    }
   ],
   "source": [
    "x = np.arange(-6,6,0.1)\n",
    "y = np.arange(-6,6,0.1)\n",
    "\n",
    "x, x.shape "
   ]
  },
  {
   "cell_type": "code",
   "execution_count": 6,
   "metadata": {},
   "outputs": [
    {
     "data": {
      "text/plain": [
       "(array([-6.00000000e+00, -5.90000000e+00, -5.80000000e+00, -5.70000000e+00,\n",
       "        -5.60000000e+00, -5.50000000e+00, -5.40000000e+00, -5.30000000e+00,\n",
       "        -5.20000000e+00, -5.10000000e+00, -5.00000000e+00, -4.90000000e+00,\n",
       "        -4.80000000e+00, -4.70000000e+00, -4.60000000e+00, -4.50000000e+00,\n",
       "        -4.40000000e+00, -4.30000000e+00, -4.20000000e+00, -4.10000000e+00,\n",
       "        -4.00000000e+00, -3.90000000e+00, -3.80000000e+00, -3.70000000e+00,\n",
       "        -3.60000000e+00, -3.50000000e+00, -3.40000000e+00, -3.30000000e+00,\n",
       "        -3.20000000e+00, -3.10000000e+00, -3.00000000e+00, -2.90000000e+00,\n",
       "        -2.80000000e+00, -2.70000000e+00, -2.60000000e+00, -2.50000000e+00,\n",
       "        -2.40000000e+00, -2.30000000e+00, -2.20000000e+00, -2.10000000e+00,\n",
       "        -2.00000000e+00, -1.90000000e+00, -1.80000000e+00, -1.70000000e+00,\n",
       "        -1.60000000e+00, -1.50000000e+00, -1.40000000e+00, -1.30000000e+00,\n",
       "        -1.20000000e+00, -1.10000000e+00, -1.00000000e+00, -9.00000000e-01,\n",
       "        -8.00000000e-01, -7.00000000e-01, -6.00000000e-01, -5.00000000e-01,\n",
       "        -4.00000000e-01, -3.00000000e-01, -2.00000000e-01, -1.00000000e-01,\n",
       "        -2.13162821e-14,  1.00000000e-01,  2.00000000e-01,  3.00000000e-01,\n",
       "         4.00000000e-01,  5.00000000e-01,  6.00000000e-01,  7.00000000e-01,\n",
       "         8.00000000e-01,  9.00000000e-01,  1.00000000e+00,  1.10000000e+00,\n",
       "         1.20000000e+00,  1.30000000e+00,  1.40000000e+00,  1.50000000e+00,\n",
       "         1.60000000e+00,  1.70000000e+00,  1.80000000e+00,  1.90000000e+00,\n",
       "         2.00000000e+00,  2.10000000e+00,  2.20000000e+00,  2.30000000e+00,\n",
       "         2.40000000e+00,  2.50000000e+00,  2.60000000e+00,  2.70000000e+00,\n",
       "         2.80000000e+00,  2.90000000e+00,  3.00000000e+00,  3.10000000e+00,\n",
       "         3.20000000e+00,  3.30000000e+00,  3.40000000e+00,  3.50000000e+00,\n",
       "         3.60000000e+00,  3.70000000e+00,  3.80000000e+00,  3.90000000e+00,\n",
       "         4.00000000e+00,  4.10000000e+00,  4.20000000e+00,  4.30000000e+00,\n",
       "         4.40000000e+00,  4.50000000e+00,  4.60000000e+00,  4.70000000e+00,\n",
       "         4.80000000e+00,  4.90000000e+00,  5.00000000e+00,  5.10000000e+00,\n",
       "         5.20000000e+00,  5.30000000e+00,  5.40000000e+00,  5.50000000e+00,\n",
       "         5.60000000e+00,  5.70000000e+00,  5.80000000e+00,  5.90000000e+00]),\n",
       " (120,))"
      ]
     },
     "execution_count": 6,
     "metadata": {},
     "output_type": "execute_result"
    }
   ],
   "source": [
    "y, y.shape "
   ]
  },
  {
   "cell_type": "code",
   "execution_count": 8,
   "metadata": {},
   "outputs": [
    {
     "data": {
      "text/plain": [
       "array([[-6. , -5.9, -5.8, ...,  5.7,  5.8,  5.9],\n",
       "       [-6. , -5.9, -5.8, ...,  5.7,  5.8,  5.9],\n",
       "       [-6. , -5.9, -5.8, ...,  5.7,  5.8,  5.9],\n",
       "       ...,\n",
       "       [-6. , -5.9, -5.8, ...,  5.7,  5.8,  5.9],\n",
       "       [-6. , -5.9, -5.8, ...,  5.7,  5.8,  5.9],\n",
       "       [-6. , -5.9, -5.8, ...,  5.7,  5.8,  5.9]])"
      ]
     },
     "execution_count": 8,
     "metadata": {},
     "output_type": "execute_result"
    }
   ],
   "source": [
    "x,y = np.meshgrid(x,y)\n",
    "x"
   ]
  },
  {
   "cell_type": "code",
   "execution_count": 9,
   "metadata": {},
   "outputs": [
    {
     "data": {
      "text/plain": [
       "array([[-6. , -6. , -6. , ..., -6. , -6. , -6. ],\n",
       "       [-6. , -6. , -6. , ..., -6. , -6. , -6. ],\n",
       "       [-6. , -6. , -6. , ..., -6. , -6. , -6. ],\n",
       "       ...,\n",
       "       [ 5.9,  5.9,  5.9, ...,  5.9,  5.9,  5.9],\n",
       "       [ 5.9,  5.9,  5.9, ...,  5.9,  5.9,  5.9],\n",
       "       [ 5.9,  5.9,  5.9, ...,  5.9,  5.9,  5.9]])"
      ]
     },
     "execution_count": 9,
     "metadata": {},
     "output_type": "execute_result"
    }
   ],
   "source": [
    "y"
   ]
  },
  {
   "cell_type": "code",
   "execution_count": 12,
   "metadata": {},
   "outputs": [
    {
     "data": {
      "text/plain": [
       "[array([[-6. , -5.9, -5.8, ...,  5.7,  5.8,  5.9],\n",
       "        [-6. , -5.9, -5.8, ...,  5.7,  5.8,  5.9],\n",
       "        [-6. , -5.9, -5.8, ...,  5.7,  5.8,  5.9],\n",
       "        ...,\n",
       "        [-6. , -5.9, -5.8, ...,  5.7,  5.8,  5.9],\n",
       "        [-6. , -5.9, -5.8, ...,  5.7,  5.8,  5.9],\n",
       "        [-6. , -5.9, -5.8, ...,  5.7,  5.8,  5.9]]),\n",
       " array([[-6. , -6. , -6. , ..., -6. , -6. , -6. ],\n",
       "        [-6. , -6. , -6. , ..., -6. , -6. , -6. ],\n",
       "        [-6. , -6. , -6. , ..., -6. , -6. , -6. ],\n",
       "        ...,\n",
       "        [ 5.9,  5.9,  5.9, ...,  5.9,  5.9,  5.9],\n",
       "        [ 5.9,  5.9,  5.9, ...,  5.9,  5.9,  5.9],\n",
       "        [ 5.9,  5.9,  5.9, ...,  5.9,  5.9,  5.9]])]"
      ]
     },
     "execution_count": 12,
     "metadata": {},
     "output_type": "execute_result"
    }
   ],
   "source": [
    "input_ =[x,y]\n",
    "input_"
   ]
  },
  {
   "cell_type": "code",
   "execution_count": 13,
   "metadata": {},
   "outputs": [],
   "source": [
    "z = himmelblau([x,y])"
   ]
  },
  {
   "cell_type": "code",
   "execution_count": 14,
   "metadata": {},
   "outputs": [
    {
     "data": {
      "image/png": "[encoded data removed]",
      "text/plain": [
       "<Figure size 432x288 with 1 Axes>"
      ]
     },
     "metadata": {
      "needs_background": "light"
     },
     "output_type": "display_data"
    }
   ],
   "source": [
    "fig = plt.figure('himmelblau')\n",
    "ax = fig.gca(projection='3d')\n",
    "ax.plot_surface(x,y,z)\n",
    "ax.view_init(60, -30)\n",
    "ax.set_xlabel('x')\n",
    "ax.set_ylabel('y')\n",
    "plt.show()\n"
   ]
  },
  {
   "cell_type": "code",
   "execution_count": null,
   "metadata": {},
   "outputs": [],
   "source": []
  },
  {
   "cell_type": "markdown",
   "metadata": {},
   "source": [
    "## gradient descent "
   ]
  },
  {
   "cell_type": "code",
   "execution_count": 16,
   "metadata": {},
   "outputs": [
    {
     "data": {
      "text/plain": [
       "tensor([-3.7793, -3.2832], requires_grad=True)"
      ]
     },
     "execution_count": 16,
     "metadata": {},
     "output_type": "execute_result"
    }
   ],
   "source": [
    "x"
   ]
  },
  {
   "cell_type": "code",
   "execution_count": 17,
   "metadata": {},
   "outputs": [
    {
     "data": {
      "text/plain": [
       "[tensor([-3.7793, -3.2832], requires_grad=True)]"
      ]
     },
     "execution_count": 17,
     "metadata": {},
     "output_type": "execute_result"
    }
   ],
   "source": [
    "[x]"
   ]
  },
  {
   "cell_type": "code",
   "execution_count": 15,
   "metadata": {},
   "outputs": [
    {
     "name": "stdout",
     "output_type": "stream",
     "text": [
      "step 0: x = [-3.999000072479248, -0.0009999999310821295], f(x) = 146.0\n",
      "step 2000: x = [-3.526559829711914, -2.5002429485321045], f(x) = 19.4503231048584\n",
      "step 4000: x = [-3.777446746826172, -3.2777843475341797], f(x) = 0.0012130826944485307\n",
      "step 6000: x = [-3.7793045043945312, -3.283174753189087], f(x) = 5.636138666886836e-09\n",
      "step 8000: x = [-3.779308319091797, -3.28318190574646], f(x) = 7.248672773130238e-10\n",
      "step 10000: x = [-3.7793095111846924, -3.28318452835083], f(x) = 8.822098607197404e-11\n",
      "step 12000: x = [-3.7793102264404297, -3.2831854820251465], f(x) = 8.185452315956354e-12\n",
      "step 14000: x = [-3.7793102264404297, -3.2831859588623047], f(x) = 0.0\n",
      "step 16000: x = [-3.7793102264404297, -3.2831859588623047], f(x) = 0.0\n",
      "step 18000: x = [-3.7793102264404297, -3.2831859588623047], f(x) = 0.0\n"
     ]
    }
   ],
   "source": [
    "# [1., 0.], [-4, 0.], [4, 0.]\n",
    "x = torch.tensor([-4., 0.], requires_grad=True)\n",
    "optimizer = torch.optim.Adam([x], lr=1e-3)\n",
    "for step in range(20000):\n",
    "\n",
    "    pred = himmelblau(x)\n",
    "\n",
    "    optimizer.zero_grad()\n",
    "    pred.backward()\n",
    "    optimizer.step()\n",
    "\n",
    "    if step % 2000 == 0:\n",
    "        print ('step {}: x = {}, f(x) = {}'\n",
    "               .format(step, x.tolist(), pred.item()))"
   ]
  },
  {
   "cell_type": "code",
   "execution_count": null,
   "metadata": {},
   "outputs": [],
   "source": []
  },
  {
   "cell_type": "code",
   "execution_count": 18,
   "metadata": {},
   "outputs": [
    {
     "name": "stdout",
     "output_type": "stream",
     "text": [
      "step 0: x = [1.0010000467300415, 0.0009999999310821295], f(x) = 136.0\n",
      "step 2000: x = [2.744952917098999, 1.858483076095581], f(x) = 3.236123561859131\n",
      "step 4000: x = [2.997783899307251, 2.0032827854156494], f(x) = 0.00022081792121753097\n",
      "step 6000: x = [2.999986171722412, 2.0000176429748535], f(x) = 7.425342118949629e-09\n",
      "step 8000: x = [2.999994993209839, 2.0000061988830566], f(x) = 9.24956111703068e-10\n",
      "step 10000: x = [2.9999983310699463, 2.000002145767212], f(x) = 1.0277290130034089e-10\n",
      "step 12000: x = [2.9999992847442627, 2.0000007152557373], f(x) = 1.1823431123048067e-11\n",
      "step 14000: x = [2.999999761581421, 2.000000238418579], f(x) = 1.8189894035458565e-12\n",
      "step 16000: x = [3.0, 2.0], f(x) = 0.0\n",
      "step 18000: x = [3.0, 2.0], f(x) = 0.0\n"
     ]
    }
   ],
   "source": [
    "x = torch.tensor([1., 0.], requires_grad=True)\n",
    "optimizer = torch.optim.Adam([x], lr=1e-3)\n",
    "for step in range(20000):\n",
    "\n",
    "    pred = himmelblau(x)\n",
    "\n",
    "    optimizer.zero_grad()\n",
    "    pred.backward()\n",
    "    optimizer.step()\n",
    "\n",
    "    if step % 2000 == 0:\n",
    "        print ('step {}: x = {}, f(x) = {}'\n",
    "               .format(step, x.tolist(), pred.item()))"
   ]
  },
  {
   "cell_type": "code",
   "execution_count": null,
   "metadata": {},
   "outputs": [],
   "source": []
  },
  {
   "cell_type": "code",
   "execution_count": 19,
   "metadata": {},
   "outputs": [
    {
     "name": "stdout",
     "output_type": "stream",
     "text": [
      "step 0: x = [3.999000072479248, -0.0009999999310821295], f(x) = 34.0\n",
      "step 2000: x = [3.5741987228393555, -1.764183521270752], f(x) = 0.09904692322015762\n",
      "step 4000: x = [3.5844225883483887, -1.8481197357177734], f(x) = 2.1100277081131935e-09\n",
      "step 6000: x = [3.5844264030456543, -1.8481241464614868], f(x) = 2.41016095969826e-10\n",
      "step 8000: x = [3.58442759513855, -1.848125696182251], f(x) = 2.9103830456733704e-11\n",
      "step 10000: x = [3.584428310394287, -1.8481262922286987], f(x) = 9.094947017729282e-13\n",
      "step 12000: x = [3.584428310394287, -1.8481265306472778], f(x) = 0.0\n",
      "step 14000: x = [3.584428310394287, -1.8481265306472778], f(x) = 0.0\n",
      "step 16000: x = [3.584428310394287, -1.8481265306472778], f(x) = 0.0\n",
      "step 18000: x = [3.584428310394287, -1.8481265306472778], f(x) = 0.0\n"
     ]
    }
   ],
   "source": [
    "x = torch.tensor([4., 0.], requires_grad=True)\n",
    "optimizer = torch.optim.Adam([x], lr=1e-3)\n",
    "for step in range(20000):\n",
    "\n",
    "    pred = himmelblau(x)\n",
    "\n",
    "    optimizer.zero_grad()\n",
    "    pred.backward()\n",
    "    optimizer.step()\n",
    "\n",
    "    if step % 2000 == 0:\n",
    "        print ('step {}: x = {}, f(x) = {}'\n",
    "               .format(step, x.tolist(), pred.item()))"
   ]
  },
  {
   "cell_type": "code",
   "execution_count": 20,
   "metadata": {},
   "outputs": [
    {
     "name": "stdout",
     "output_type": "stream",
     "text": [
      "step 0: x = [1.0010000467300415, 0.0009999999310821295], f(x) = 136.0\n",
      "step 2000: x = [2.744952917098999, 1.858483076095581], f(x) = 3.236123561859131\n",
      "step 4000: x = [2.997783899307251, 2.0032827854156494], f(x) = 0.00022081792121753097\n",
      "step 6000: x = [2.999986171722412, 2.0000176429748535], f(x) = 7.425342118949629e-09\n",
      "step 8000: x = [2.999994993209839, 2.0000061988830566], f(x) = 9.24956111703068e-10\n",
      "step 10000: x = [2.9999983310699463, 2.000002145767212], f(x) = 1.0277290130034089e-10\n",
      "step 12000: x = [2.9999992847442627, 2.0000007152557373], f(x) = 1.1823431123048067e-11\n",
      "step 14000: x = [2.999999761581421, 2.000000238418579], f(x) = 1.8189894035458565e-12\n",
      "step 16000: x = [3.0, 2.0], f(x) = 0.0\n",
      "step 18000: x = [3.0, 2.0], f(x) = 0.0\n"
     ]
    }
   ],
   "source": [
    "x = torch.tensor([1., 0.], requires_grad=True)\n",
    "optimizer = torch.optim.Adam([x], lr=1e-3)\n",
    "for step in range(20000):\n",
    "\n",
    "    pred = himmelblau(x)\n",
    "\n",
    "    optimizer.zero_grad()\n",
    "    pred.backward()\n",
    "    optimizer.step()\n",
    "\n",
    "    if step % 2000 == 0:\n",
    "        print ('step {}: x = {}, f(x) = {}'\n",
    "               .format(step, x.tolist(), pred.item()))"
   ]
  },
  {
   "cell_type": "code",
   "execution_count": null,
   "metadata": {},
   "outputs": [],
   "source": []
  }
 ],
 "metadata": {
  "kernelspec": {
   "display_name": "Python 3",
   "language": "python",
   "name": "python3"
  },
  "language_info": {
   "codemirror_mode": {
    "name": "ipython",
    "version": 3
   },
   "file_extension": ".py",
   "mimetype": "text/x-python",
   "name": "python",
   "nbconvert_exporter": "python",
   "pygments_lexer": "ipython3",
   "version": "3.7.3"
  }
 },
 "nbformat": 4,
 "nbformat_minor": 2
}
