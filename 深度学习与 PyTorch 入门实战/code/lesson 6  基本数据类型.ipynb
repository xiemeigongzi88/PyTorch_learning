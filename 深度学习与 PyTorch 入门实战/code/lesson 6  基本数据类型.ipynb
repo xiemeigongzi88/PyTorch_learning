{
 "cells": [
  {
   "cell_type": "markdown",
   "metadata": {},
   "source": [
    "# lesson 6  基本数据类型"
   ]
  },
  {
   "cell_type": "code",
   "execution_count": 22,
   "metadata": {},
   "outputs": [],
   "source": [
    "import torch \n",
    "import numpy as np"
   ]
  },
  {
   "cell_type": "code",
   "execution_count": 2,
   "metadata": {},
   "outputs": [
    {
     "data": {
      "text/plain": [
       "tensor([[ 0.3544,  0.1709,  0.9585],\n",
       "        [ 2.5448, -0.1973, -1.4519]])"
      ]
     },
     "execution_count": 2,
     "metadata": {},
     "output_type": "execute_result"
    }
   ],
   "source": [
    "a = torch.randn(2,3)\n",
    "a"
   ]
  },
  {
   "cell_type": "code",
   "execution_count": 3,
   "metadata": {},
   "outputs": [
    {
     "data": {
      "text/plain": [
       "'torch.FloatTensor'"
      ]
     },
     "execution_count": 3,
     "metadata": {},
     "output_type": "execute_result"
    }
   ],
   "source": [
    "a.type()"
   ]
  },
  {
   "cell_type": "code",
   "execution_count": 4,
   "metadata": {},
   "outputs": [
    {
     "data": {
      "text/plain": [
       "torch.Tensor"
      ]
     },
     "execution_count": 4,
     "metadata": {},
     "output_type": "execute_result"
    }
   ],
   "source": [
    "type(a)"
   ]
  },
  {
   "cell_type": "code",
   "execution_count": 5,
   "metadata": {},
   "outputs": [
    {
     "data": {
      "text/plain": [
       "True"
      ]
     },
     "execution_count": 5,
     "metadata": {},
     "output_type": "execute_result"
    }
   ],
   "source": [
    "isinstance(a, torch.FloatTensor)"
   ]
  },
  {
   "cell_type": "code",
   "execution_count": 8,
   "metadata": {},
   "outputs": [
    {
     "data": {
      "text/plain": [
       "tensor([[ 0.3329, -0.0838, -1.0901],\n",
       "        [ 1.1839, -1.1950, -0.4444]], dtype=torch.float64)"
      ]
     },
     "execution_count": 8,
     "metadata": {},
     "output_type": "execute_result"
    }
   ],
   "source": [
    "data = torch.randn(2,3, dtype= torch.double)\n",
    "data"
   ]
  },
  {
   "cell_type": "code",
   "execution_count": 10,
   "metadata": {},
   "outputs": [
    {
     "data": {
      "text/plain": [
       "'torch.DoubleTensor'"
      ]
     },
     "execution_count": 10,
     "metadata": {},
     "output_type": "execute_result"
    }
   ],
   "source": [
    "data.type()"
   ]
  },
  {
   "cell_type": "code",
   "execution_count": null,
   "metadata": {},
   "outputs": [],
   "source": []
  },
  {
   "cell_type": "markdown",
   "metadata": {},
   "source": [
    "## Dim 0 "
   ]
  },
  {
   "cell_type": "code",
   "execution_count": 11,
   "metadata": {},
   "outputs": [
    {
     "data": {
      "text/plain": [
       "tensor(1.)"
      ]
     },
     "execution_count": 11,
     "metadata": {},
     "output_type": "execute_result"
    }
   ],
   "source": [
    "torch.tensor(1.)"
   ]
  },
  {
   "cell_type": "code",
   "execution_count": 12,
   "metadata": {},
   "outputs": [
    {
     "data": {
      "text/plain": [
       "tensor(1.3000)"
      ]
     },
     "execution_count": 12,
     "metadata": {},
     "output_type": "execute_result"
    }
   ],
   "source": [
    "torch.tensor(1.3)"
   ]
  },
  {
   "cell_type": "code",
   "execution_count": 13,
   "metadata": {},
   "outputs": [
    {
     "data": {
      "text/plain": [
       "torch.Size([])"
      ]
     },
     "execution_count": 13,
     "metadata": {},
     "output_type": "execute_result"
    }
   ],
   "source": [
    "a = torch.tensor(2.2)\n",
    "a.shape"
   ]
  },
  {
   "cell_type": "code",
   "execution_count": 14,
   "metadata": {},
   "outputs": [
    {
     "data": {
      "text/plain": [
       "0"
      ]
     },
     "execution_count": 14,
     "metadata": {},
     "output_type": "execute_result"
    }
   ],
   "source": [
    "len(a.shape)"
   ]
  },
  {
   "cell_type": "code",
   "execution_count": 15,
   "metadata": {},
   "outputs": [
    {
     "data": {
      "text/plain": [
       "torch.Size([])"
      ]
     },
     "execution_count": 15,
     "metadata": {},
     "output_type": "execute_result"
    }
   ],
   "source": [
    "a.size()"
   ]
  },
  {
   "cell_type": "code",
   "execution_count": null,
   "metadata": {},
   "outputs": [],
   "source": []
  },
  {
   "cell_type": "markdown",
   "metadata": {},
   "source": [
    "## Dim 1"
   ]
  },
  {
   "cell_type": "code",
   "execution_count": 16,
   "metadata": {},
   "outputs": [
    {
     "data": {
      "text/plain": [
       "tensor([1.1000])"
      ]
     },
     "execution_count": 16,
     "metadata": {},
     "output_type": "execute_result"
    }
   ],
   "source": [
    "a = torch.tensor([1.1])"
   ]
  },
  {
   "cell_type": "code",
   "execution_count": 17,
   "metadata": {},
   "outputs": [
    {
     "data": {
      "text/plain": [
       "tensor([1.1000, 1.2000])"
      ]
     },
     "execution_count": 17,
     "metadata": {},
     "output_type": "execute_result"
    }
   ],
   "source": [
    "torch.tensor([1.1,1.2])"
   ]
  },
  {
   "cell_type": "code",
   "execution_count": 19,
   "metadata": {},
   "outputs": [
    {
     "data": {
      "text/plain": [
       "tensor(1., dtype=torch.float64)"
      ]
     },
     "execution_count": 19,
     "metadata": {},
     "output_type": "execute_result"
    }
   ],
   "source": [
    "torch.tensor(1, dtype = torch.double)"
   ]
  },
  {
   "cell_type": "code",
   "execution_count": 20,
   "metadata": {},
   "outputs": [
    {
     "data": {
      "text/plain": [
       "tensor([0.])"
      ]
     },
     "execution_count": 20,
     "metadata": {},
     "output_type": "execute_result"
    }
   ],
   "source": [
    "torch.FloatTensor(1)"
   ]
  },
  {
   "cell_type": "code",
   "execution_count": 21,
   "metadata": {},
   "outputs": [
    {
     "data": {
      "text/plain": [
       "tensor([0., 0.])"
      ]
     },
     "execution_count": 21,
     "metadata": {},
     "output_type": "execute_result"
    }
   ],
   "source": [
    "torch.FloatTensor(2)"
   ]
  },
  {
   "cell_type": "code",
   "execution_count": null,
   "metadata": {},
   "outputs": [],
   "source": []
  },
  {
   "cell_type": "markdown",
   "metadata": {},
   "source": [
    "## Dim 3 "
   ]
  },
  {
   "cell_type": "code",
   "execution_count": 23,
   "metadata": {},
   "outputs": [
    {
     "data": {
      "text/plain": [
       "tensor([[[ 0.1791,  0.0976, -0.8936],\n",
       "         [ 1.4796,  0.7681,  0.9371]]])"
      ]
     },
     "execution_count": 23,
     "metadata": {},
     "output_type": "execute_result"
    }
   ],
   "source": [
    "a = torch.randn(1,2,3)\n",
    "a"
   ]
  },
  {
   "cell_type": "code",
   "execution_count": 24,
   "metadata": {},
   "outputs": [
    {
     "data": {
      "text/plain": [
       "torch.Size([1, 2, 3])"
      ]
     },
     "execution_count": 24,
     "metadata": {},
     "output_type": "execute_result"
    }
   ],
   "source": [
    "a.shape"
   ]
  },
  {
   "cell_type": "code",
   "execution_count": 25,
   "metadata": {},
   "outputs": [
    {
     "data": {
      "text/plain": [
       "1"
      ]
     },
     "execution_count": 25,
     "metadata": {},
     "output_type": "execute_result"
    }
   ],
   "source": [
    "a.shape[0]"
   ]
  },
  {
   "cell_type": "code",
   "execution_count": 26,
   "metadata": {},
   "outputs": [
    {
     "data": {
      "text/plain": [
       "tensor([[ 0.1791,  0.0976, -0.8936],\n",
       "        [ 1.4796,  0.7681,  0.9371]])"
      ]
     },
     "execution_count": 26,
     "metadata": {},
     "output_type": "execute_result"
    }
   ],
   "source": [
    "a[0]"
   ]
  },
  {
   "cell_type": "code",
   "execution_count": null,
   "metadata": {},
   "outputs": [],
   "source": []
  },
  {
   "cell_type": "code",
   "execution_count": 27,
   "metadata": {},
   "outputs": [
    {
     "data": {
      "text/plain": [
       "tensor([[[[0.5620, 0.4548, 0.5465,  ..., 0.0196, 0.8359, 0.2862],\n",
       "          [0.3770, 0.8611, 0.7168,  ..., 0.1705, 0.9073, 0.3489],\n",
       "          [0.9369, 0.5601, 0.6770,  ..., 0.3825, 0.9586, 0.9401],\n",
       "          ...,\n",
       "          [0.8045, 0.4945, 0.8930,  ..., 0.9885, 0.8943, 0.9748],\n",
       "          [0.0228, 0.2142, 0.7848,  ..., 0.4961, 0.0548, 0.5792],\n",
       "          [0.2378, 0.5701, 0.1542,  ..., 0.7327, 0.1000, 0.0778]],\n",
       "\n",
       "         [[0.9324, 0.0214, 0.2533,  ..., 0.5055, 0.9558, 0.6226],\n",
       "          [0.6515, 0.5819, 0.7364,  ..., 0.8814, 0.9545, 0.8519],\n",
       "          [0.9655, 0.5364, 0.8449,  ..., 0.1912, 0.4461, 0.2962],\n",
       "          ...,\n",
       "          [0.8200, 0.9156, 0.2767,  ..., 0.6573, 0.6815, 0.4487],\n",
       "          [0.3357, 0.4221, 0.3622,  ..., 0.1175, 0.3896, 0.0068],\n",
       "          [0.3055, 0.2065, 0.3255,  ..., 0.2163, 0.4837, 0.6043]],\n",
       "\n",
       "         [[0.3352, 0.0622, 0.9027,  ..., 0.5494, 0.4035, 0.0629],\n",
       "          [0.1212, 0.6419, 0.3401,  ..., 0.3344, 0.3094, 0.9543],\n",
       "          [0.9186, 0.1003, 0.8511,  ..., 0.2035, 0.2131, 0.8245],\n",
       "          ...,\n",
       "          [0.7389, 0.2994, 0.5419,  ..., 0.4772, 0.0669, 0.0791],\n",
       "          [0.7878, 0.7385, 0.5050,  ..., 0.8397, 0.6330, 0.4533],\n",
       "          [0.7484, 0.2995, 0.0243,  ..., 0.0840, 0.4724, 0.8464]]],\n",
       "\n",
       "\n",
       "        [[[0.6410, 0.3562, 0.0646,  ..., 0.0814, 0.2625, 0.2771],\n",
       "          [0.3436, 0.2244, 0.0850,  ..., 0.4607, 0.6687, 0.6995],\n",
       "          [0.5118, 0.0647, 0.0542,  ..., 0.7376, 0.6780, 0.8860],\n",
       "          ...,\n",
       "          [0.1189, 0.2050, 0.9675,  ..., 0.3653, 0.6739, 0.1074],\n",
       "          [0.7391, 0.4204, 0.6889,  ..., 0.6190, 0.5437, 0.1693],\n",
       "          [0.0548, 0.5733, 0.5106,  ..., 0.4633, 0.9150, 0.4817]],\n",
       "\n",
       "         [[0.4734, 0.4996, 0.9807,  ..., 0.3285, 0.4501, 0.9251],\n",
       "          [0.1399, 0.3038, 0.4413,  ..., 0.7508, 0.4568, 0.1638],\n",
       "          [0.3420, 0.3559, 0.4681,  ..., 0.2461, 0.5776, 0.0153],\n",
       "          ...,\n",
       "          [0.5719, 0.1035, 0.8083,  ..., 0.8276, 0.7804, 0.4844],\n",
       "          [0.2099, 0.8201, 0.4995,  ..., 0.5473, 0.3899, 0.7900],\n",
       "          [0.2731, 0.6252, 0.6976,  ..., 0.9573, 0.6178, 0.2198]],\n",
       "\n",
       "         [[0.4484, 0.1649, 0.0363,  ..., 0.4693, 0.0168, 0.5954],\n",
       "          [0.2671, 0.1795, 0.0201,  ..., 0.6162, 0.9458, 0.8787],\n",
       "          [0.9125, 0.8051, 0.0283,  ..., 0.2454, 0.5448, 0.5251],\n",
       "          ...,\n",
       "          [0.0589, 0.2973, 0.3843,  ..., 0.2724, 0.5768, 0.3411],\n",
       "          [0.8167, 0.0962, 0.5188,  ..., 0.0403, 0.0674, 0.3599],\n",
       "          [0.2346, 0.2366, 0.4703,  ..., 0.5580, 0.0961, 0.6697]]]])"
      ]
     },
     "execution_count": 27,
     "metadata": {},
     "output_type": "execute_result"
    }
   ],
   "source": [
    "a = torch.rand(2,3,28,28)\n",
    "a"
   ]
  },
  {
   "cell_type": "code",
   "execution_count": 28,
   "metadata": {},
   "outputs": [
    {
     "data": {
      "text/plain": [
       "torch.Size([2, 3, 28, 28])"
      ]
     },
     "execution_count": 28,
     "metadata": {},
     "output_type": "execute_result"
    }
   ],
   "source": [
    "a.shape "
   ]
  },
  {
   "cell_type": "code",
   "execution_count": 30,
   "metadata": {},
   "outputs": [
    {
     "data": {
      "text/plain": [
       "4704"
      ]
     },
     "execution_count": 30,
     "metadata": {},
     "output_type": "execute_result"
    }
   ],
   "source": [
    "a.numel()"
   ]
  },
  {
   "cell_type": "code",
   "execution_count": 31,
   "metadata": {},
   "outputs": [
    {
     "data": {
      "text/plain": [
       "4"
      ]
     },
     "execution_count": 31,
     "metadata": {},
     "output_type": "execute_result"
    }
   ],
   "source": [
    "a.dim()"
   ]
  },
  {
   "cell_type": "code",
   "execution_count": 32,
   "metadata": {},
   "outputs": [
    {
     "data": {
      "text/plain": [
       "tensor(1)"
      ]
     },
     "execution_count": 32,
     "metadata": {},
     "output_type": "execute_result"
    }
   ],
   "source": [
    "a = torch.tensor(1)\n",
    "a"
   ]
  },
  {
   "cell_type": "code",
   "execution_count": 33,
   "metadata": {},
   "outputs": [
    {
     "data": {
      "text/plain": [
       "0"
      ]
     },
     "execution_count": 33,
     "metadata": {},
     "output_type": "execute_result"
    }
   ],
   "source": [
    "a.dim()"
   ]
  },
  {
   "cell_type": "code",
   "execution_count": null,
   "metadata": {},
   "outputs": [],
   "source": []
  }
 ],
 "metadata": {
  "kernelspec": {
   "display_name": "Python 3",
   "language": "python",
   "name": "python3"
  },
  "language_info": {
   "codemirror_mode": {
    "name": "ipython",
    "version": 3
   },
   "file_extension": ".py",
   "mimetype": "text/x-python",
   "name": "python",
   "nbconvert_exporter": "python",
   "pygments_lexer": "ipython3",
   "version": "3.7.3"
  }
 },
 "nbformat": 4,
 "nbformat_minor": 2
}
