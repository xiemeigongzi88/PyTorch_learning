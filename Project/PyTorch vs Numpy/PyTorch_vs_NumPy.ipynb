{
  "nbformat": 4,
  "nbformat_minor": 0,
  "metadata": {
    "colab": {
      "name": "PyTorch vs NumPy.ipynb",
      "provenance": [],
      "collapsed_sections": []
    },
    "kernelspec": {
      "name": "python3",
      "display_name": "Python 3"
    }
  },
  "cells": [
    {
      "cell_type": "code",
      "metadata": {
        "id": "H9tUWC3vNfqp",
        "colab_type": "code",
        "colab": {}
      },
      "source": [
        "import numpy as np \n",
        "import torch \n",
        "import time "
      ],
      "execution_count": 0,
      "outputs": []
    },
    {
      "cell_type": "code",
      "metadata": {
        "id": "cPuZ3e1cNlp0",
        "colab_type": "code",
        "colab": {
          "base_uri": "https://localhost:8080/",
          "height": 35
        },
        "outputId": "1c282798-f734-4768-9533-aecbcab2c426"
      },
      "source": [
        "current_time = time.time() \n",
        "\n",
        "for i in range(1000):\n",
        "    arr = np.zeros((4000,4000))\n",
        "    brr = np.zeros((4000,4000))\n",
        "    crr = np.zeros((4000,4000))\n",
        "    drr = np.zeros((4000,4000))\n",
        "    err = np.zeros((4000,4000))\n",
        "    frr = np.zeros((4000,4000))\n",
        "  #  grr = np.zeros((40000,40000))\n",
        "  #  hrr = np.zeros((40000,40000))\n",
        "  #  irr = np.zeros((40000,40000))\n",
        "  #  jrr = np.zeros((40000,40000))\n",
        "  #  krr = np.zeros((40000,40000))\n",
        "  #  lrr = np.zeros((40000,40000))\n",
        "  #  mrr = np.zeros((40000,40000))\n",
        "  #  nrr = np.zeros((40000,40000))\n",
        "    \n",
        "finish_time = time.time()\n",
        "\n",
        "print('cost time: ', finish_time- current_time)"
      ],
      "execution_count": 2,
      "outputs": [
        {
          "output_type": "stream",
          "text": [
            "cost time:  186.88993215560913\n"
          ],
          "name": "stdout"
        }
      ]
    },
    {
      "cell_type": "code",
      "metadata": {
        "id": "72UJUGSZNrRB",
        "colab_type": "code",
        "colab": {
          "base_uri": "https://localhost:8080/",
          "height": 35
        },
        "outputId": "e14d6876-3448-475d-ed2d-079113f4be75"
      },
      "source": [
        "current_time = time.time() \n",
        "\n",
        "for i in range(1000):\n",
        "    arr = torch.empty((4000,4000))\n",
        "    brr = torch.empty((4000,4000))\n",
        "    crr = torch.empty((4000,4000))\n",
        "    drr = torch.empty((4000,4000))\n",
        "    err = torch.empty((4000,4000))\n",
        "    frr = torch.empty((4000,4000))\n",
        "  #  grr = np.zeros((40000,40000))\n",
        "  #  hrr = np.zeros((40000,40000))\n",
        "  #  irr = np.zeros((40000,40000))\n",
        "  #  jrr = np.zeros((40000,40000))\n",
        "  #  krr = np.zeros((40000,40000))\n",
        "  #  lrr = np.zeros((40000,40000))\n",
        "  #  mrr = np.zeros((40000,40000))\n",
        "  #  nrr = np.zeros((40000,40000))\n",
        "    \n",
        "finish_time = time.time()\n",
        "\n",
        "print('cost time: ', finish_time- current_time)"
      ],
      "execution_count": 3,
      "outputs": [
        {
          "output_type": "stream",
          "text": [
            "cost time:  2.8406753540039062\n"
          ],
          "name": "stdout"
        }
      ]
    },
    {
      "cell_type": "code",
      "metadata": {
        "id": "sbkR9CA8NrTd",
        "colab_type": "code",
        "colab": {}
      },
      "source": [
        ""
      ],
      "execution_count": 0,
      "outputs": []
    },
    {
      "cell_type": "code",
      "metadata": {
        "id": "_-EcfyfYNrW-",
        "colab_type": "code",
        "colab": {}
      },
      "source": [
        "# 2. Array Operations "
      ],
      "execution_count": 0,
      "outputs": []
    },
    {
      "cell_type": "code",
      "metadata": {
        "id": "ht9Pt8WkNrZW",
        "colab_type": "code",
        "colab": {
          "base_uri": "https://localhost:8080/",
          "height": 35
        },
        "outputId": "4763fc64-1af9-4f9e-a76a-2d332108c86b"
      },
      "source": [
        "# torch \n",
        "x = torch.rand(10000,10000)\n",
        "y = torch.rand(10000,10000)\n",
        "\n",
        "current_time = time.time()\n",
        "\n",
        "a = x+y \n",
        "b = x-y \n",
        "c = x*y \n",
        "\n",
        "end_time = time.time()\n",
        "end_time - current_time"
      ],
      "execution_count": 5,
      "outputs": [
        {
          "output_type": "execute_result",
          "data": {
            "text/plain": [
              "1.9914681911468506"
            ]
          },
          "metadata": {
            "tags": []
          },
          "execution_count": 5
        }
      ]
    },
    {
      "cell_type": "code",
      "metadata": {
        "id": "dUV7pRlENrb1",
        "colab_type": "code",
        "colab": {
          "base_uri": "https://localhost:8080/",
          "height": 35
        },
        "outputId": "49f190e7-5cad-48e2-a477-39df42d9b29b"
      },
      "source": [
        "# numpy \n",
        "x = np.random.rand(10000,10000)\n",
        "y = np.random.rand(10000,10000)\n",
        "\n",
        "current_time = time.time()\n",
        "\n",
        "a = x+y \n",
        "b = x-y \n",
        "c = x*y \n",
        "\n",
        "end_time = time.time()\n",
        "end_time - current_time\n"
      ],
      "execution_count": 6,
      "outputs": [
        {
          "output_type": "execute_result",
          "data": {
            "text/plain": [
              "1.638838529586792"
            ]
          },
          "metadata": {
            "tags": []
          },
          "execution_count": 6
        }
      ]
    },
    {
      "cell_type": "code",
      "metadata": {
        "id": "wSpBlDOMNrd4",
        "colab_type": "code",
        "colab": {}
      },
      "source": [
        "# 3. array traversing "
      ],
      "execution_count": 0,
      "outputs": []
    },
    {
      "cell_type": "code",
      "metadata": {
        "id": "lkHyx7RRNrgK",
        "colab_type": "code",
        "colab": {
          "base_uri": "https://localhost:8080/",
          "height": 35
        },
        "outputId": "9db1ca9d-d925-4a09-9d16-1d1c48220fe8"
      },
      "source": [
        "# numpy \n",
        "\n",
        "x = np.random.rand(1,1000000000)\n",
        "\n",
        "current_time = time.time()\n",
        "\n",
        "y = x[0, (len(x)//2)]\n",
        "\n",
        "end_time = time.time()\n",
        "\n",
        "end_time - current_time"
      ],
      "execution_count": 8,
      "outputs": [
        {
          "output_type": "execute_result",
          "data": {
            "text/plain": [
              "0.0005037784576416016"
            ]
          },
          "metadata": {
            "tags": []
          },
          "execution_count": 8
        }
      ]
    },
    {
      "cell_type": "code",
      "metadata": {
        "id": "8e8_nTLGNric",
        "colab_type": "code",
        "colab": {
          "base_uri": "https://localhost:8080/",
          "height": 35
        },
        "outputId": "c4573614-e0c0-466a-bb21-d60f012eb886"
      },
      "source": [
        "# torch \n",
        "\n",
        "x = torch.rand(1,1000000000)\n",
        "\n",
        "current_time = time.time()\n",
        "\n",
        "y = x[0, (len(x)//2)]\n",
        "\n",
        "end_time = time.time()\n",
        "\n",
        "end_time - current_time"
      ],
      "execution_count": 3,
      "outputs": [
        {
          "output_type": "execute_result",
          "data": {
            "text/plain": [
              "0.013945341110229492"
            ]
          },
          "metadata": {
            "tags": []
          },
          "execution_count": 3
        }
      ]
    },
    {
      "cell_type": "code",
      "metadata": {
        "id": "OH9acWQCNrk0",
        "colab_type": "code",
        "colab": {}
      },
      "source": [
        ""
      ],
      "execution_count": 0,
      "outputs": []
    },
    {
      "cell_type": "code",
      "metadata": {
        "id": "bVnlwOk8NrnJ",
        "colab_type": "code",
        "colab": {}
      },
      "source": [
        "# Linear Algebra"
      ],
      "execution_count": 0,
      "outputs": []
    },
    {
      "cell_type": "code",
      "metadata": {
        "id": "m4Wmm5UuNrpQ",
        "colab_type": "code",
        "colab": {}
      },
      "source": [
        "# using both \n",
        "\n",
        "# numpy -> pytorch\n",
        "tensor = torch.from_numpy(np_array)\n",
        "\n",
        "#  pytorch -> numpy \n",
        "ndarray = tensor.numpy()"
      ],
      "execution_count": 0,
      "outputs": []
    },
    {
      "cell_type": "code",
      "metadata": {
        "id": "Z-fuiB-VNrrm",
        "colab_type": "code",
        "colab": {}
      },
      "source": [
        "# new tensor \n",
        "\n",
        "# numpy \n",
        "zeros = np.zeros((4,4))\n",
        "ones = np.ones((4,4))\n",
        "random = np.random.random((4,4))\n",
        "\n",
        "# pytorch \n",
        "zeros = torch.zeros(4,4)\n",
        "ones = torch.ones(4,4)\n",
        "random = torch.rand(4,4)"
      ],
      "execution_count": 0,
      "outputs": []
    },
    {
      "cell_type": "code",
      "metadata": {
        "id": "dtshpVKSNrt8",
        "colab_type": "code",
        "colab": {}
      },
      "source": [
        ""
      ],
      "execution_count": 0,
      "outputs": []
    },
    {
      "cell_type": "code",
      "metadata": {
        "id": "et5NbD79NrwC",
        "colab_type": "code",
        "colab": {}
      },
      "source": [
        "# Basic Linear Algebra "
      ],
      "execution_count": 0,
      "outputs": []
    },
    {
      "cell_type": "code",
      "metadata": {
        "id": "l-dUY-_NNrye",
        "colab_type": "code",
        "colab": {}
      },
      "source": [
        "# indexing \n",
        "\n",
        "# numpy \n",
        "array[0,0]\n",
        "array[0,:]\n",
        "\n",
        "# pytorch \n",
        "torch[0,0]\n",
        "torch[0,:]"
      ],
      "execution_count": 0,
      "outputs": []
    },
    {
      "cell_type": "code",
      "metadata": {
        "id": "PftOk5n1Nr1H",
        "colab_type": "code",
        "colab": {}
      },
      "source": [
        "# addition & subtraction \n",
        "\n",
        "# numpy \n",
        "array1 + array2 \n",
        "array1 - array2\n",
        "\n",
        "# pytorch \n",
        "tensor1 + tensor2 \n",
        "tensor1- tensor2 "
      ],
      "execution_count": 0,
      "outputs": []
    },
    {
      "cell_type": "code",
      "metadata": {
        "id": "aXEZfCwUNr3e",
        "colab_type": "code",
        "colab": {}
      },
      "source": [
        "# multiplication \n",
        "\n",
        "# numpy \n",
        "array*array \n",
        "# matrix multiplication \n",
        "array@ array\n",
        "\n",
        "# pytorch \n",
        "tensor * tensor \n",
        "# matrix multiplication \n",
        "tensor@tensor "
      ],
      "execution_count": 0,
      "outputs": []
    },
    {
      "cell_type": "code",
      "metadata": {
        "id": "f0EnQKY4XPy3",
        "colab_type": "code",
        "colab": {}
      },
      "source": [
        "# shape and dimensions\n",
        "\n",
        "# numpy \n",
        "shape = array.shape \n",
        "num_dim = array.ndim \n",
        "\n",
        "# pytorch \n",
        "shape = tensor.shape \n",
        "shape = tensor.size()\n",
        "num_dim = tensor.dim() "
      ],
      "execution_count": 0,
      "outputs": []
    },
    {
      "cell_type": "code",
      "metadata": {
        "id": "R_7P5tXIXP3b",
        "colab_type": "code",
        "colab": {}
      },
      "source": [
        "# reshaping \n",
        "\n",
        "# numpy \n",
        "new_array = array.reshape((8,2))\n",
        "\n",
        "# pytorch \n",
        "new_tensor = tensor.view(8,2)"
      ],
      "execution_count": 0,
      "outputs": []
    },
    {
      "cell_type": "code",
      "metadata": {
        "id": "1FYF15k_XP52",
        "colab_type": "code",
        "colab": {}
      },
      "source": [
        "# sum / mean / std \n",
        "\n",
        "# numpy \n",
        "array.sum() # sum \n",
        "array.mean() # mean \n",
        "array.std() # std \n",
        "\n",
        "\n",
        "# pytorch \n",
        "tensor.sum() \n",
        "tensor.mean() \n",
        "tensor.std() "
      ],
      "execution_count": 0,
      "outputs": []
    },
    {
      "cell_type": "code",
      "metadata": {
        "id": "HIF3UYjTXP-D",
        "colab_type": "code",
        "colab": {}
      },
      "source": [
        "# transpose \n",
        "\n",
        "# numpy \n",
        "array.T\n",
        "array.transpose()\n",
        "\n",
        "# pytorch \n",
        "tensor.t() "
      ],
      "execution_count": 0,
      "outputs": []
    },
    {
      "cell_type": "code",
      "metadata": {
        "id": "Pk35J4MoXQCT",
        "colab_type": "code",
        "colab": {}
      },
      "source": [
        "# saving to disk \n",
        "\n",
        "# numpy \n",
        "np.save('file.npy', array)\n",
        "np.load('file.npy')\n",
        "\n",
        "# pytorch \n",
        "torch.save(tensor, 'file')\n",
        "torch.load('file')"
      ],
      "execution_count": 0,
      "outputs": []
    },
    {
      "cell_type": "code",
      "metadata": {
        "id": "Wv-8SSrnXQEr",
        "colab_type": "code",
        "colab": {}
      },
      "source": [
        ""
      ],
      "execution_count": 0,
      "outputs": []
    }
  ]
}